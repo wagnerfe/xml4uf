{
 "cells": [
  {
   "cell_type": "code",
   "execution_count": 1,
   "metadata": {},
   "outputs": [],
   "source": [
    "import sys, os\n",
    "import pandas as pd\n",
    "import geopandas as gpd\n",
    "import matplotlib.pyplot as plt\n",
    "import seaborn as sns\n",
    "import skmob as skm\n",
    "# as jupyter notebook cannot find __file__, import module and submodule path via current_folder\n",
    "current_folder = globals()['_dh'][0]\n",
    "\n",
    "PROJECT_SRC_PATH = os.path.realpath(os.path.join(current_folder, '..', '..', 'xml4uf'))\n",
    "sys.path.append(PROJECT_SRC_PATH)\n",
    "\n",
    "from ufo_map.Utils.helpers import *"
   ]
  },
  {
   "cell_type": "code",
   "execution_count": 2,
   "metadata": {},
   "outputs": [
    {
     "data": {
      "text/html": [
       "<div>\n",
       "<style scoped>\n",
       "    .dataframe tbody tr th:only-of-type {\n",
       "        vertical-align: middle;\n",
       "    }\n",
       "\n",
       "    .dataframe tbody tr th {\n",
       "        vertical-align: top;\n",
       "    }\n",
       "\n",
       "    .dataframe thead th {\n",
       "        text-align: right;\n",
       "    }\n",
       "</style>\n",
       "<table border=\"1\" class=\"dataframe\">\n",
       "  <thead>\n",
       "    <tr style=\"text-align: right;\">\n",
       "      <th></th>\n",
       "      <th>ids</th>\n",
       "      <th>v_mean</th>\n",
       "      <th>v_min</th>\n",
       "      <th>v_max</th>\n",
       "      <th>a_mean</th>\n",
       "      <th>a_min</th>\n",
       "      <th>a_max</th>\n",
       "      <th>n_points</th>\n",
       "      <th>dist</th>\n",
       "      <th>time</th>\n",
       "    </tr>\n",
       "  </thead>\n",
       "  <tbody>\n",
       "    <tr>\n",
       "      <th>0</th>\n",
       "      <td>0000540a40665d9353490d15cafc1f06</td>\n",
       "      <td>5.339083</td>\n",
       "      <td>0.000000</td>\n",
       "      <td>14.298873</td>\n",
       "      <td>0.001819</td>\n",
       "      <td>-0.734312</td>\n",
       "      <td>0.669963</td>\n",
       "      <td>191</td>\n",
       "      <td>15305.947149</td>\n",
       "      <td>2867.0</td>\n",
       "    </tr>\n",
       "    <tr>\n",
       "      <th>1</th>\n",
       "      <td>0000aea11f5f24be78907213abe7303a</td>\n",
       "      <td>6.243548</td>\n",
       "      <td>4.549513</td>\n",
       "      <td>7.937584</td>\n",
       "      <td>0.009157</td>\n",
       "      <td>0.000000</td>\n",
       "      <td>0.018314</td>\n",
       "      <td>2</td>\n",
       "      <td>2310.112894</td>\n",
       "      <td>370.0</td>\n",
       "    </tr>\n",
       "    <tr>\n",
       "      <th>2</th>\n",
       "      <td>0000b1a447e2a40e9ce613f1888aef9d</td>\n",
       "      <td>2.544137</td>\n",
       "      <td>2.544137</td>\n",
       "      <td>2.544137</td>\n",
       "      <td>0.000000</td>\n",
       "      <td>0.000000</td>\n",
       "      <td>0.000000</td>\n",
       "      <td>1</td>\n",
       "      <td>1350.936750</td>\n",
       "      <td>531.0</td>\n",
       "    </tr>\n",
       "    <tr>\n",
       "      <th>3</th>\n",
       "      <td>0000d9ba45333ba03965553393b58c88</td>\n",
       "      <td>9.482366</td>\n",
       "      <td>8.199254</td>\n",
       "      <td>10.765478</td>\n",
       "      <td>-0.016450</td>\n",
       "      <td>-0.032900</td>\n",
       "      <td>0.000000</td>\n",
       "      <td>2</td>\n",
       "      <td>1495.647628</td>\n",
       "      <td>158.0</td>\n",
       "    </tr>\n",
       "    <tr>\n",
       "      <th>4</th>\n",
       "      <td>0001028b7be37b79375c867927d27494</td>\n",
       "      <td>24.944504</td>\n",
       "      <td>4.839406</td>\n",
       "      <td>45.049602</td>\n",
       "      <td>0.437067</td>\n",
       "      <td>0.000000</td>\n",
       "      <td>0.874135</td>\n",
       "      <td>2</td>\n",
       "      <td>447.860663</td>\n",
       "      <td>51.0</td>\n",
       "    </tr>\n",
       "    <tr>\n",
       "      <th>...</th>\n",
       "      <td>...</td>\n",
       "      <td>...</td>\n",
       "      <td>...</td>\n",
       "      <td>...</td>\n",
       "      <td>...</td>\n",
       "      <td>...</td>\n",
       "      <td>...</td>\n",
       "      <td>...</td>\n",
       "      <td>...</td>\n",
       "      <td>...</td>\n",
       "    </tr>\n",
       "    <tr>\n",
       "      <th>329214</th>\n",
       "      <td>fffe6bbdfdc4b74d2af8767efd62b9ff</td>\n",
       "      <td>6.373869</td>\n",
       "      <td>1.807371</td>\n",
       "      <td>10.940368</td>\n",
       "      <td>0.024684</td>\n",
       "      <td>0.000000</td>\n",
       "      <td>0.049368</td>\n",
       "      <td>2</td>\n",
       "      <td>2358.331712</td>\n",
       "      <td>370.0</td>\n",
       "    </tr>\n",
       "    <tr>\n",
       "      <th>329215</th>\n",
       "      <td>fffec31695372d9c6159f630fae02820</td>\n",
       "      <td>10.979146</td>\n",
       "      <td>1.701720</td>\n",
       "      <td>16.156204</td>\n",
       "      <td>-0.079325</td>\n",
       "      <td>-0.603344</td>\n",
       "      <td>0.217443</td>\n",
       "      <td>19</td>\n",
       "      <td>4152.050647</td>\n",
       "      <td>530.0</td>\n",
       "    </tr>\n",
       "    <tr>\n",
       "      <th>329216</th>\n",
       "      <td>ffff1ddde7ae3779911cd23a5a08524a</td>\n",
       "      <td>5.643148</td>\n",
       "      <td>2.609752</td>\n",
       "      <td>10.609792</td>\n",
       "      <td>-0.000481</td>\n",
       "      <td>-0.032218</td>\n",
       "      <td>0.041299</td>\n",
       "      <td>8</td>\n",
       "      <td>8407.786635</td>\n",
       "      <td>1488.0</td>\n",
       "    </tr>\n",
       "    <tr>\n",
       "      <th>329217</th>\n",
       "      <td>ffff608f93ca13a0d98390640b6f3b06</td>\n",
       "      <td>23.456647</td>\n",
       "      <td>9.097327</td>\n",
       "      <td>32.765051</td>\n",
       "      <td>0.023934</td>\n",
       "      <td>0.000000</td>\n",
       "      <td>0.063132</td>\n",
       "      <td>5</td>\n",
       "      <td>22795.553618</td>\n",
       "      <td>973.0</td>\n",
       "    </tr>\n",
       "    <tr>\n",
       "      <th>329218</th>\n",
       "      <td>ffffa1067e898fbba28b8a4400ad8b15</td>\n",
       "      <td>5.637190</td>\n",
       "      <td>4.130123</td>\n",
       "      <td>6.934651</td>\n",
       "      <td>0.003093</td>\n",
       "      <td>-0.005880</td>\n",
       "      <td>0.015160</td>\n",
       "      <td>3</td>\n",
       "      <td>3146.180646</td>\n",
       "      <td>558.0</td>\n",
       "    </tr>\n",
       "  </tbody>\n",
       "</table>\n",
       "<p>329219 rows × 10 columns</p>\n",
       "</div>"
      ],
      "text/plain": [
       "                                     ids     v_mean     v_min      v_max  \\\n",
       "0       0000540a40665d9353490d15cafc1f06   5.339083  0.000000  14.298873   \n",
       "1       0000aea11f5f24be78907213abe7303a   6.243548  4.549513   7.937584   \n",
       "2       0000b1a447e2a40e9ce613f1888aef9d   2.544137  2.544137   2.544137   \n",
       "3       0000d9ba45333ba03965553393b58c88   9.482366  8.199254  10.765478   \n",
       "4       0001028b7be37b79375c867927d27494  24.944504  4.839406  45.049602   \n",
       "...                                  ...        ...       ...        ...   \n",
       "329214  fffe6bbdfdc4b74d2af8767efd62b9ff   6.373869  1.807371  10.940368   \n",
       "329215  fffec31695372d9c6159f630fae02820  10.979146  1.701720  16.156204   \n",
       "329216  ffff1ddde7ae3779911cd23a5a08524a   5.643148  2.609752  10.609792   \n",
       "329217  ffff608f93ca13a0d98390640b6f3b06  23.456647  9.097327  32.765051   \n",
       "329218  ffffa1067e898fbba28b8a4400ad8b15   5.637190  4.130123   6.934651   \n",
       "\n",
       "          a_mean     a_min     a_max  n_points          dist    time  \n",
       "0       0.001819 -0.734312  0.669963       191  15305.947149  2867.0  \n",
       "1       0.009157  0.000000  0.018314         2   2310.112894   370.0  \n",
       "2       0.000000  0.000000  0.000000         1   1350.936750   531.0  \n",
       "3      -0.016450 -0.032900  0.000000         2   1495.647628   158.0  \n",
       "4       0.437067  0.000000  0.874135         2    447.860663    51.0  \n",
       "...          ...       ...       ...       ...           ...     ...  \n",
       "329214  0.024684  0.000000  0.049368         2   2358.331712   370.0  \n",
       "329215 -0.079325 -0.603344  0.217443        19   4152.050647   530.0  \n",
       "329216 -0.000481 -0.032218  0.041299         8   8407.786635  1488.0  \n",
       "329217  0.023934  0.000000  0.063132         5  22795.553618   973.0  \n",
       "329218  0.003093 -0.005880  0.015160         3   3146.180646   558.0  \n",
       "\n",
       "[329219 rows x 10 columns]"
      ]
     },
     "execution_count": 2,
     "metadata": {},
     "output_type": "execute_result"
    }
   ],
   "source": [
    "df = pd.read_csv('/Users/Felix/cluster_remote/p/projects/eubucco/test_felix/data/waypoint_stats_329219_samples.csv')\n",
    "df"
   ]
  },
  {
   "cell_type": "code",
   "execution_count": 3,
   "metadata": {},
   "outputs": [
    {
     "data": {
      "text/html": [
       "<div>\n",
       "<style scoped>\n",
       "    .dataframe tbody tr th:only-of-type {\n",
       "        vertical-align: middle;\n",
       "    }\n",
       "\n",
       "    .dataframe tbody tr th {\n",
       "        vertical-align: top;\n",
       "    }\n",
       "\n",
       "    .dataframe thead th {\n",
       "        text-align: right;\n",
       "    }\n",
       "</style>\n",
       "<table border=\"1\" class=\"dataframe\">\n",
       "  <thead>\n",
       "    <tr style=\"text-align: right;\">\n",
       "      <th></th>\n",
       "      <th>ids</th>\n",
       "      <th>v_mean</th>\n",
       "      <th>v_min</th>\n",
       "      <th>v_max</th>\n",
       "      <th>a_mean</th>\n",
       "      <th>a_min</th>\n",
       "      <th>a_max</th>\n",
       "      <th>n_points</th>\n",
       "      <th>dist</th>\n",
       "      <th>time</th>\n",
       "    </tr>\n",
       "  </thead>\n",
       "  <tbody>\n",
       "    <tr>\n",
       "      <th>0</th>\n",
       "      <td>0000540a40665d9353490d15cafc1f06</td>\n",
       "      <td>5.339083</td>\n",
       "      <td>0.000000</td>\n",
       "      <td>14.298873</td>\n",
       "      <td>0.001819</td>\n",
       "      <td>-0.734312</td>\n",
       "      <td>0.669963</td>\n",
       "      <td>191</td>\n",
       "      <td>15305.947149</td>\n",
       "      <td>2867.0</td>\n",
       "    </tr>\n",
       "    <tr>\n",
       "      <th>1</th>\n",
       "      <td>0000aea11f5f24be78907213abe7303a</td>\n",
       "      <td>6.243548</td>\n",
       "      <td>4.549513</td>\n",
       "      <td>7.937584</td>\n",
       "      <td>0.009157</td>\n",
       "      <td>0.000000</td>\n",
       "      <td>0.018314</td>\n",
       "      <td>2</td>\n",
       "      <td>2310.112894</td>\n",
       "      <td>370.0</td>\n",
       "    </tr>\n",
       "    <tr>\n",
       "      <th>2</th>\n",
       "      <td>0000b1a447e2a40e9ce613f1888aef9d</td>\n",
       "      <td>2.544137</td>\n",
       "      <td>2.544137</td>\n",
       "      <td>2.544137</td>\n",
       "      <td>0.000000</td>\n",
       "      <td>0.000000</td>\n",
       "      <td>0.000000</td>\n",
       "      <td>1</td>\n",
       "      <td>1350.936750</td>\n",
       "      <td>531.0</td>\n",
       "    </tr>\n",
       "    <tr>\n",
       "      <th>3</th>\n",
       "      <td>0000d9ba45333ba03965553393b58c88</td>\n",
       "      <td>9.482366</td>\n",
       "      <td>8.199254</td>\n",
       "      <td>10.765478</td>\n",
       "      <td>-0.016450</td>\n",
       "      <td>-0.032900</td>\n",
       "      <td>0.000000</td>\n",
       "      <td>2</td>\n",
       "      <td>1495.647628</td>\n",
       "      <td>158.0</td>\n",
       "    </tr>\n",
       "    <tr>\n",
       "      <th>4</th>\n",
       "      <td>0001028b7be37b79375c867927d27494</td>\n",
       "      <td>24.944504</td>\n",
       "      <td>4.839406</td>\n",
       "      <td>45.049602</td>\n",
       "      <td>0.437067</td>\n",
       "      <td>0.000000</td>\n",
       "      <td>0.874135</td>\n",
       "      <td>2</td>\n",
       "      <td>447.860663</td>\n",
       "      <td>51.0</td>\n",
       "    </tr>\n",
       "    <tr>\n",
       "      <th>...</th>\n",
       "      <td>...</td>\n",
       "      <td>...</td>\n",
       "      <td>...</td>\n",
       "      <td>...</td>\n",
       "      <td>...</td>\n",
       "      <td>...</td>\n",
       "      <td>...</td>\n",
       "      <td>...</td>\n",
       "      <td>...</td>\n",
       "      <td>...</td>\n",
       "    </tr>\n",
       "    <tr>\n",
       "      <th>329214</th>\n",
       "      <td>fffe6bbdfdc4b74d2af8767efd62b9ff</td>\n",
       "      <td>6.373869</td>\n",
       "      <td>1.807371</td>\n",
       "      <td>10.940368</td>\n",
       "      <td>0.024684</td>\n",
       "      <td>0.000000</td>\n",
       "      <td>0.049368</td>\n",
       "      <td>2</td>\n",
       "      <td>2358.331712</td>\n",
       "      <td>370.0</td>\n",
       "    </tr>\n",
       "    <tr>\n",
       "      <th>329215</th>\n",
       "      <td>fffec31695372d9c6159f630fae02820</td>\n",
       "      <td>10.979146</td>\n",
       "      <td>1.701720</td>\n",
       "      <td>16.156204</td>\n",
       "      <td>-0.079325</td>\n",
       "      <td>-0.603344</td>\n",
       "      <td>0.217443</td>\n",
       "      <td>19</td>\n",
       "      <td>4152.050647</td>\n",
       "      <td>530.0</td>\n",
       "    </tr>\n",
       "    <tr>\n",
       "      <th>329216</th>\n",
       "      <td>ffff1ddde7ae3779911cd23a5a08524a</td>\n",
       "      <td>5.643148</td>\n",
       "      <td>2.609752</td>\n",
       "      <td>10.609792</td>\n",
       "      <td>-0.000481</td>\n",
       "      <td>-0.032218</td>\n",
       "      <td>0.041299</td>\n",
       "      <td>8</td>\n",
       "      <td>8407.786635</td>\n",
       "      <td>1488.0</td>\n",
       "    </tr>\n",
       "    <tr>\n",
       "      <th>329217</th>\n",
       "      <td>ffff608f93ca13a0d98390640b6f3b06</td>\n",
       "      <td>23.456647</td>\n",
       "      <td>9.097327</td>\n",
       "      <td>32.765051</td>\n",
       "      <td>0.023934</td>\n",
       "      <td>0.000000</td>\n",
       "      <td>0.063132</td>\n",
       "      <td>5</td>\n",
       "      <td>22795.553618</td>\n",
       "      <td>973.0</td>\n",
       "    </tr>\n",
       "    <tr>\n",
       "      <th>329218</th>\n",
       "      <td>ffffa1067e898fbba28b8a4400ad8b15</td>\n",
       "      <td>5.637190</td>\n",
       "      <td>4.130123</td>\n",
       "      <td>6.934651</td>\n",
       "      <td>0.003093</td>\n",
       "      <td>-0.005880</td>\n",
       "      <td>0.015160</td>\n",
       "      <td>3</td>\n",
       "      <td>3146.180646</td>\n",
       "      <td>558.0</td>\n",
       "    </tr>\n",
       "  </tbody>\n",
       "</table>\n",
       "<p>329219 rows × 10 columns</p>\n",
       "</div>"
      ],
      "text/plain": [
       "                                     ids     v_mean     v_min      v_max  \\\n",
       "0       0000540a40665d9353490d15cafc1f06   5.339083  0.000000  14.298873   \n",
       "1       0000aea11f5f24be78907213abe7303a   6.243548  4.549513   7.937584   \n",
       "2       0000b1a447e2a40e9ce613f1888aef9d   2.544137  2.544137   2.544137   \n",
       "3       0000d9ba45333ba03965553393b58c88   9.482366  8.199254  10.765478   \n",
       "4       0001028b7be37b79375c867927d27494  24.944504  4.839406  45.049602   \n",
       "...                                  ...        ...       ...        ...   \n",
       "329214  fffe6bbdfdc4b74d2af8767efd62b9ff   6.373869  1.807371  10.940368   \n",
       "329215  fffec31695372d9c6159f630fae02820  10.979146  1.701720  16.156204   \n",
       "329216  ffff1ddde7ae3779911cd23a5a08524a   5.643148  2.609752  10.609792   \n",
       "329217  ffff608f93ca13a0d98390640b6f3b06  23.456647  9.097327  32.765051   \n",
       "329218  ffffa1067e898fbba28b8a4400ad8b15   5.637190  4.130123   6.934651   \n",
       "\n",
       "          a_mean     a_min     a_max  n_points          dist    time  \n",
       "0       0.001819 -0.734312  0.669963       191  15305.947149  2867.0  \n",
       "1       0.009157  0.000000  0.018314         2   2310.112894   370.0  \n",
       "2       0.000000  0.000000  0.000000         1   1350.936750   531.0  \n",
       "3      -0.016450 -0.032900  0.000000         2   1495.647628   158.0  \n",
       "4       0.437067  0.000000  0.874135         2    447.860663    51.0  \n",
       "...          ...       ...       ...       ...           ...     ...  \n",
       "329214  0.024684  0.000000  0.049368         2   2358.331712   370.0  \n",
       "329215 -0.079325 -0.603344  0.217443        19   4152.050647   530.0  \n",
       "329216 -0.000481 -0.032218  0.041299         8   8407.786635  1488.0  \n",
       "329217  0.023934  0.000000  0.063132         5  22795.553618   973.0  \n",
       "329218  0.003093 -0.005880  0.015160         3   3146.180646   558.0  \n",
       "\n",
       "[329219 rows x 10 columns]"
      ]
     },
     "execution_count": 3,
     "metadata": {},
     "output_type": "execute_result"
    }
   ],
   "source": [
    "# replace all inf values with nan\n",
    "df.replace(np.inf,np.nan,inplace=True)\n",
    "# then drop all nans\n",
    "df.dropna(how='all',inplace=True)\n",
    "df"
   ]
  },
  {
   "cell_type": "code",
   "execution_count": 5,
   "metadata": {},
   "outputs": [
    {
     "data": {
      "text/plain": [
       "<seaborn.axisgrid.FacetGrid at 0x14b4d1310>"
      ]
     },
     "execution_count": 5,
     "metadata": {},
     "output_type": "execute_result"
    },
    {
     "data": {
      "image/png": "[encoded data removed]",
      "text/plain": [
       "<Figure size 360x360 with 1 Axes>"
      ]
     },
     "metadata": {
      "needs_background": "light"
     },
     "output_type": "display_data"
    }
   ],
   "source": [
    "# plot n_points stats (we already cut the very long ones)\n",
    "sns.displot(df.loc[(df.n_points>1)&(df.n_points<500)].n_points,binwidth = 5)"
   ]
  },
  {
   "cell_type": "code",
   "execution_count": 12,
   "metadata": {},
   "outputs": [
    {
     "data": {
      "text/plain": [
       "29.621060752872708"
      ]
     },
     "execution_count": 12,
     "metadata": {},
     "output_type": "execute_result"
    }
   ],
   "source": [
    "np.mean(df.n_points)"
   ]
  },
  {
   "cell_type": "code",
   "execution_count": 31,
   "metadata": {},
   "outputs": [
    {
     "data": {
      "text/plain": [
       "<seaborn.axisgrid.FacetGrid at 0x15d537340>"
      ]
     },
     "execution_count": 31,
     "metadata": {},
     "output_type": "execute_result"
    },
    {
     "data": {
      "image/png": "[encoded data removed]",
      "text/plain": [
       "<Figure size 360x360 with 1 Axes>"
      ]
     },
     "metadata": {
      "needs_background": "light"
     },
     "output_type": "display_data"
    }
   ],
   "source": [
    "sns.displot(df.v_mean*3.6,binwidth = 3)"
   ]
  },
  {
   "cell_type": "code",
   "execution_count": 40,
   "metadata": {},
   "outputs": [
    {
     "data": {
      "text/plain": [
       "<seaborn.axisgrid.FacetGrid at 0x168336520>"
      ]
     },
     "execution_count": 40,
     "metadata": {},
     "output_type": "execute_result"
    },
    {
     "data": {
      "image/png": "[encoded data removed]",
      "text/plain": [
       "<Figure size 360x360 with 1 Axes>"
      ]
     },
     "metadata": {
      "needs_background": "light"
     },
     "output_type": "display_data"
    }
   ],
   "source": [
    "sns.displot(df.loc[(df.v_min>5/3.6)].v_min*3.6,binwidth = 3)"
   ]
  },
  {
   "cell_type": "code",
   "execution_count": 43,
   "metadata": {},
   "outputs": [
    {
     "data": {
      "text/plain": [
       "0.12270555466118294"
      ]
     },
     "execution_count": 43,
     "metadata": {},
     "output_type": "execute_result"
    }
   ],
   "source": [
    "1-len(df.loc[(df.v_min>0/3.6)])/len(df)"
   ]
  },
  {
   "cell_type": "code",
   "execution_count": 50,
   "metadata": {},
   "outputs": [
    {
     "data": {
      "text/plain": [
       "<seaborn.axisgrid.FacetGrid at 0x16b491430>"
      ]
     },
     "execution_count": 50,
     "metadata": {},
     "output_type": "execute_result"
    },
    {
     "data": {
      "image/png": "[encoded data removed]",
      "text/plain": [
       "<Figure size 360x360 with 1 Axes>"
      ]
     },
     "metadata": {
      "needs_background": "light"
     },
     "output_type": "display_data"
    }
   ],
   "source": [
    "sns.displot(df.loc[(df.v_min==0)&(df.n_points>2)&(df.n_points<1000)].n_points,binwidth = 10)"
   ]
  },
  {
   "cell_type": "code",
   "execution_count": 6,
   "metadata": {},
   "outputs": [
    {
     "data": {
      "text/plain": [
       "<seaborn.axisgrid.FacetGrid at 0x10af29c70>"
      ]
     },
     "execution_count": 6,
     "metadata": {},
     "output_type": "execute_result"
    },
    {
     "data": {
      "image/png": "[encoded data removed]",
      "text/plain": [
       "<Figure size 360x360 with 1 Axes>"
      ]
     },
     "metadata": {
      "needs_background": "light"
     },
     "output_type": "display_data"
    }
   ],
   "source": [
    "sns.displot(df.dist,binwidth = 1000)"
   ]
  },
  {
   "cell_type": "code",
   "execution_count": 11,
   "metadata": {},
   "outputs": [
    {
     "data": {
      "text/plain": [
       "<seaborn.axisgrid.FacetGrid at 0x15b319d30>"
      ]
     },
     "execution_count": 11,
     "metadata": {},
     "output_type": "execute_result"
    },
    {
     "data": {
      "image/png": "[encoded data removed]",
      "text/plain": [
       "<Figure size 360x360 with 1 Axes>"
      ]
     },
     "metadata": {
      "needs_background": "light"
     },
     "output_type": "display_data"
    }
   ],
   "source": [
    "sns.displot(df.time/60,binwidth = 5)"
   ]
  },
  {
   "cell_type": "code",
   "execution_count": 19,
   "metadata": {},
   "outputs": [
    {
     "data": {
      "text/plain": [
       "<seaborn.axisgrid.FacetGrid at 0x1601e13d0>"
      ]
     },
     "execution_count": 19,
     "metadata": {},
     "output_type": "execute_result"
    },
    {
     "data": {
      "image/png": "[encoded data removed]",
      "text/plain": [
       "<Figure size 360x360 with 1 Axes>"
      ]
     },
     "metadata": {
      "needs_background": "light"
     },
     "output_type": "display_data"
    }
   ],
   "source": [
    "sns.displot(df.loc[(df.a_mean>-1)&(df.a_mean<1)].a_mean,binwidth = 0.05)"
   ]
  },
  {
   "cell_type": "code",
   "execution_count": 22,
   "metadata": {},
   "outputs": [
    {
     "data": {
      "text/plain": [
       "<seaborn.axisgrid.FacetGrid at 0x15f74cca0>"
      ]
     },
     "execution_count": 22,
     "metadata": {},
     "output_type": "execute_result"
    },
    {
     "data": {
      "image/png": "[encoded data removed]",
      "text/plain": [
       "<Figure size 360x360 with 1 Axes>"
      ]
     },
     "metadata": {
      "needs_background": "light"
     },
     "output_type": "display_data"
    }
   ],
   "source": [
    "sns.displot(df.loc[df.a_max>5].a_max,binwidth = 1)"
   ]
  },
  {
   "cell_type": "code",
   "execution_count": 16,
   "metadata": {},
   "outputs": [
    {
     "data": {
      "text/plain": [
       "<seaborn.axisgrid.FacetGrid at 0x14becb7f0>"
      ]
     },
     "execution_count": 16,
     "metadata": {},
     "output_type": "execute_result"
    },
    {
     "data": {
      "image/png": "[encoded data removed]",
      "text/plain": [
       "<Figure size 720x720 with 1 Axes>"
      ]
     },
     "metadata": {},
     "output_type": "display_data"
    }
   ],
   "source": [
    "#fig,ax = plt.subplots(figsize=(10,10))\n",
    "sns.displot(data=df, x='v_mean',y='dist',height=10,aspect=1)"
   ]
  },
  {
   "cell_type": "code",
   "execution_count": null,
   "metadata": {},
   "outputs": [],
   "source": []
  }
 ],
 "metadata": {
  "kernelspec": {
   "display_name": "Python 3.9.7 ('urban_form_local')",
   "language": "python",
   "name": "python3"
  },
  "language_info": {
   "codemirror_mode": {
    "name": "ipython",
    "version": 3
   },
   "file_extension": ".py",
   "mimetype": "text/x-python",
   "name": "python",
   "nbconvert_exporter": "python",
   "pygments_lexer": "ipython3",
   "version": "3.9.7"
  },
  "orig_nbformat": 4,
  "vscode": {
   "interpreter": {
    "hash": "8cfa0d9bb958ca9446955850d673fcd9b364dbe607a08bf22d8a692018366e7e"
   }
  }
 },
 "nbformat": 4,
 "nbformat_minor": 2
}
